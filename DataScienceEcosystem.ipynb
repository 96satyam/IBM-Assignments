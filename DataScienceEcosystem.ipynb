{
 "cells": [
  {
   "cell_type": "markdown",
   "id": "6473b6cf",
   "metadata": {},
   "source": [
    "# Data Science Tools and Ecosystem"
   ]
  },
  {
   "cell_type": "markdown",
   "id": "f5f81643",
   "metadata": {},
   "source": [
    "### This notebook summarises Data Science Tools and Ecosystem ."
   ]
  },
  {
   "cell_type": "markdown",
   "id": "fb3fdd1a",
   "metadata": {},
   "source": [
    "### Objectives:\n",
    "#### . This notebook covers some libraries used by Data Scientists.\n",
    "##### . This notebook covers famous programming languages used by Data Scientists.\n",
    "##### . This notebook covers insertion of markdown cells and code cells.\n",
    "##### . This notebook covers different types of hadings in markdowns.\n",
    "##### . This notebook covers some famous Data Science Tools."
   ]
  },
  {
   "cell_type": "markdown",
   "id": "2bbd4470",
   "metadata": {},
   "source": [
    "Some of the popular languages that Data Scientists use are: [R, Python, SQL]"
   ]
  },
  {
   "cell_type": "markdown",
   "id": "e0ebf518",
   "metadata": {},
   "source": [
    "Some of the commonly used libraries used by Data Scientists include: [Sklearn, Pandas, Numpy, Matplotlib, Seaborn]"
   ]
  },
  {
   "cell_type": "markdown",
   "id": "7b8a0f17",
   "metadata": {},
   "source": [
    "#### Data Science Tools\n",
    "1. Tensor Flow\n",
    "2. Tableau\n",
    "3. Scikit-learn"
   ]
  },
  {
   "cell_type": "markdown",
   "id": "9300c03b",
   "metadata": {},
   "source": [
    "### Below are a few examples of evaluating arithmetic expressions in Python\n",
    "1.     4+5\n",
    "2.     6*5+7\n",
    "3.     7-2+5*7\n",
    "4.     6/7+8*5-6+7"
   ]
  },
  {
   "cell_type": "code",
   "execution_count": 2,
   "id": "36043981",
   "metadata": {},
   "outputs": [
    {
     "data": {
      "text/plain": [
       "17"
      ]
     },
     "execution_count": 2,
     "metadata": {},
     "output_type": "execute_result"
    }
   ],
   "source": [
    "#  This a simple arithmetic expression to mutiply then add integers\n",
    "result = (3*4)+5\n",
    "result"
   ]
  },
  {
   "cell_type": "code",
   "execution_count": 3,
   "id": "7a1e5081",
   "metadata": {},
   "outputs": [
    {
     "data": {
      "text/plain": [
       "3.3333333333333335"
      ]
     },
     "execution_count": 3,
     "metadata": {},
     "output_type": "execute_result"
    }
   ],
   "source": [
    "#  This will convert 200 minutes to hours by diving by 60\n",
    "minutes = 200\n",
    "hours = minutes/60\n",
    "hours"
   ]
  },
  {
   "cell_type": "markdown",
   "id": "50bb5bad",
   "metadata": {},
   "source": [
    "## Author\n",
    "Satyam Tiwari"
   ]
  },
  {
   "cell_type": "code",
   "execution_count": null,
   "id": "4d1f7f49",
   "metadata": {},
   "outputs": [],
   "source": []
  }
 ],
 "metadata": {
  "kernelspec": {
   "display_name": "Python 3 (ipykernel)",
   "language": "python",
   "name": "python3"
  },
  "language_info": {
   "codemirror_mode": {
    "name": "ipython",
    "version": 3
   },
   "file_extension": ".py",
   "mimetype": "text/x-python",
   "name": "python",
   "nbconvert_exporter": "python",
   "pygments_lexer": "ipython3",
   "version": "3.9.13"
  }
 },
 "nbformat": 4,
 "nbformat_minor": 5
}
